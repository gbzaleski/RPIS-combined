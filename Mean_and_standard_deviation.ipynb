{
 "cells": [
  {
   "cell_type": "code",
   "execution_count": 10,
   "metadata": {},
   "outputs": [],
   "source": [
    "# Grzegorz B. Zaleski (418494)\n",
    "# Dowód matematyczny twierdzeń przedstawie w pseudokodzie latexowym.\n",
    "# X ma rozkład dystreny ponieważ suma prawdopodobieństw (przeliczalnie wielu) wynosi 1, tj\n",
    "# \\sum_{k = 1}^{inf} P(X = k) + \\sum_{k = 1}^{inf} P(X = -k) + P(X = 0) = 1\n",
    "# Via def. P(X = k) możemy przekształcić:\n",
    "# 2\\sum_{k = 1}^{inf}1/(4k(k+1)) = 0.5\n",
    "# \\sum_{k = 1}^{inf}1/(4k(k+1)) = 0.25\n",
    "# sum_{k = 1}^{inf}1/(k(k+1)) = 1\n",
    "# sum_{k = 1}^{inf}1/(k(k+1)) = lim_{n to inf} sum_{k = 1}^{n} 1/(k(k+1)) = lim_{n to inf} 1 - 1/(n+1) = 1\n",
    "# CKD"
   ]
  },
  {
   "cell_type": "code",
   "execution_count": null,
   "metadata": {},
   "outputs": [],
   "source": [
    "# Podobnie zaczynajać można pokazać brak średniej:\n",
    "# S = sum_{k = 1}^{inf} k/(4k(k+1)) + \\sum_{k = 1}^{inf} -k/(4k(k+1)) + 0\n",
    "# 4S = sum_{k = 1}^{inf} k/(k(k+1)) + \\sum_{k = 1}^{inf} -k/(k(k+1))\n",
    "# 4S = sum_{k = 1}^{inf} 1/(k+1) + \\sum_{k = 1}^{inf} -1/(k+1)\n",
    "# Srednia nie istnieje ponieważ szereg sum_{k = 1}^{inf} 1/(k+1) jest rozbieżny"
   ]
  },
  {
   "cell_type": "code",
   "execution_count": 3,
   "metadata": {},
   "outputs": [],
   "source": [
    "import numpy as np\n",
    "import pandas\n",
    "import matplotlib.pyplot as plt "
   ]
  },
  {
   "cell_type": "code",
   "execution_count": 3,
   "metadata": {},
   "outputs": [],
   "source": [
    "def P(k):\n",
    "    if k == 0:\n",
    "        return 0.5\n",
    "    return 1/(4 * abs(k) * (abs(k)+ 1))"
   ]
  },
  {
   "cell_type": "code",
   "execution_count": 7,
   "metadata": {},
   "outputs": [
    {
     "data": {
      "image/png": "[encoded data removed]",
      "text/plain": [
       "<Figure size 432x288 with 1 Axes>"
      ]
     },
     "metadata": {
      "needs_background": "light"
     },
     "output_type": "display_data"
    }
   ],
   "source": [
    "args = np.arange(-10, 11)\n",
    "values = np.array(list(map(P, args)))\n",
    "plt.xticks(np.arange(-10,11))\n",
    "plt.plot(args, values, 'ro')\n",
    "plt.show() # Wykres P(X = k) dla k \\in [-10, 10]"
   ]
  },
  {
   "cell_type": "code",
   "execution_count": 6,
   "metadata": {},
   "outputs": [
    {
     "data": {
      "image/png": "[encoded data removed]",
      "text/plain": [
       "<Figure size 432x288 with 1 Axes>"
      ]
     },
     "metadata": {
      "needs_background": "light"
     },
     "output_type": "display_data"
    }
   ],
   "source": [
    "import random\n",
    "import math\n",
    "\n",
    "# Przypadek X = 0, oraz korzystajac z symetrzyczności P(X = k) = P(X = -k)\n",
    "# wybiera znak\n",
    "def get_sgn():\n",
    "    f = random.random()\n",
    "    if f < 1/2:\n",
    "        return 0\n",
    "    return np.sign(f - 3/4)\n",
    "\n",
    "# Funkcja losująca liczbę na podstawie obserwacji z labolatoriów\n",
    "def get_value():\n",
    "    sign = get_sgn()\n",
    "    if sign == 0:\n",
    "        return 0\n",
    "    p = random.random()\n",
    "    return sign * math.floor(1/p)\n",
    "\n",
    "def get_samples(N):\n",
    "    return np.array([get_value() for x in range(N)])\n",
    "        \n",
    "N = int(1e4)\n",
    "values = get_samples(N)\n",
    "# Kosmetyczna zmiany zwiększające czytelnosc histogramu       \n",
    "plt.xticks(np.arange(-20,21))                                                  \n",
    "plt.hist(values, bins = np.arange(-10,11,1))\n",
    "plt.show()"
   ]
  },
  {
   "cell_type": "code",
   "execution_count": 10,
   "metadata": {},
   "outputs": [
    {
     "data": {
      "image/png": "[encoded data removed]",
      "text/plain": [
       "<Figure size 432x288 with 1 Axes>"
      ]
     },
     "metadata": {
      "needs_background": "light"
     },
     "output_type": "display_data"
    }
   ],
   "source": [
    "values = get_samples(N)\n",
    "means = []\n",
    "for i in range(N):\n",
    "    means.append(np.mean(values[:(i + 1)]))\n",
    "\n",
    "means = np.array(means)\n",
    "plt.plot(means)\n",
    "plt.show()\n",
    "# Ciąg powoli zbiega do 0 "
   ]
  },
  {
   "cell_type": "code",
   "execution_count": 12,
   "metadata": {},
   "outputs": [
    {
     "data": {
      "image/png": "[encoded data removed]",
      "text/plain": [
       "<Figure size 432x288 with 1 Axes>"
      ]
     },
     "metadata": {
      "needs_background": "light"
     },
     "output_type": "display_data"
    }
   ],
   "source": [
    "values = get_samples(N)\n",
    "medians = []\n",
    "for i in range(N):\n",
    "    medians.append(np.median(values[:(i + 1)]))\n",
    "\n",
    "medians = np.array(medians)\n",
    "plt.plot(medians)\n",
    "plt.show()\n",
    "# Ciąg zbiega do zera znacznie szybciej dla mediany zmiast średniej (niemal od razu)."
   ]
  },
  {
   "cell_type": "code",
   "execution_count": null,
   "metadata": {},
   "outputs": [],
   "source": [
    "# Mając podane X + c, z nieznanym parametrem c, szybciej znajdziemy wartość c używajac mediany ponieważ ciąg znacznie szybciej zbiega (do wartości c, zauwazmy że w poprzednich przykładach rozwaliśmy X + 0)"
   ]
  }
 ],
 "metadata": {
  "kernelspec": {
   "display_name": "Python 3",
   "language": "python",
   "name": "python3"
  },
  "language_info": {
   "codemirror_mode": {
    "name": "ipython",
    "version": 3
   },
   "file_extension": ".py",
   "mimetype": "text/x-python",
   "name": "python",
   "nbconvert_exporter": "python",
   "pygments_lexer": "ipython3",
   "version": "3.7.3"
  }
 },
 "nbformat": 4,
 "nbformat_minor": 2
}
