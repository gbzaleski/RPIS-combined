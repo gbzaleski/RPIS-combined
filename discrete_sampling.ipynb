{
 "cells": [
  {
   "cell_type": "code",
   "execution_count": 145,
   "metadata": {},
   "outputs": [
    {
     "name": "stdout",
     "output_type": "stream",
     "text": [
      "Function generated 406547 results\n"
     ]
    },
    {
     "data": {
      "image/png": "[encoded data removed]",
      "text/plain": [
       "<Figure size 432x288 with 1 Axes>"
      ]
     },
     "metadata": {
      "needs_background": "light"
     },
     "output_type": "display_data"
    }
   ],
   "source": [
    "# Grzegorz Zaleski (418494)\n",
    "import numpy as np\n",
    "import pandas as pd\n",
    "import matplotlib.pyplot as plt\n",
    "import random\n",
    "\n",
    "# Pobranie i poprawienie danych.\n",
    "da = pd.read_csv('us_births_69_88.csv')\n",
    "error_dates = [(day, month) for (month,day) in [(2,30), (2,31), (4,31), (6,31), (4,31), (6,31), (9,31), (11,31)]]#\n",
    "da.drop([i for i in da.index if (da.loc[i, 'day'], da.loc[i, 'month']) in error_dates], inplace=True)\n",
    "births_emp = np.array(da['births'])\n",
    "\n",
    "# Liczba wiader (symbolizujacych dni w roku)\n",
    "n = len(births_emp)\n",
    "\n",
    "# Kazde wiadro bedzie V_max = 1\n",
    "# Ilosc wody w kazdym wiadrze\n",
    "buckets = n * births_emp/births_emp.sum() \n",
    "\n",
    "# W setach beda potrojne tuple:\n",
    "# (Id_wiadra, Id_wiadra z ktorego przelano, aktualna ilosc wody)\n",
    "overflow = set() \n",
    "underflow = set()\n",
    "\n",
    "for i in range(n):\n",
    "    if buckets[i] >= 1:\n",
    "        overflow.add((i, None, buckets[i]))\n",
    "    elif buckets[i] < 1:\n",
    "        underflow.add((i, None, buckets[i]))\n",
    "        \n",
    "# Skad dane wiadro dopełniono.\n",
    "full_buckets = np.arange(n)\n",
    "\n",
    "# Przelewanie wody między wiadrami\n",
    "while len(overflow) > 0 and len(underflow) > 0:\n",
    "    over = overflow.pop()\n",
    "    under = underflow.pop()\n",
    "    \n",
    "    full_buckets[under[0]] = over[0] # dopelniony kubeł\n",
    "    new_over = (over[0], over[1], over[2] - 1 + under[2]) # (czesciowy) oprozniony\n",
    "    \n",
    "    if new_over[2] >= 1:\n",
    "        overflow.add(new_over)\n",
    "    else:\n",
    "        underflow.add(new_over)\n",
    "\n",
    "# Poprawienie niedokladnosci     \n",
    "while len(overflow) > 0:\n",
    "    over = overflow.pop()\n",
    "    if over[1] == None:\n",
    "        full_buckets[over[0]] = over[0]\n",
    "    else:\n",
    "        full_buckets[over[0]] = over[1]\n",
    "    \n",
    "while len(underflow) > 0:\n",
    "    under = underflow.pop()\n",
    "    if under[1] == None:\n",
    "        full_buckets[under[0]] = under[0]\n",
    "    else:\n",
    "        full_buckets[under[0]] = under[1]\n",
    "        \n",
    "# N = liczba losowan dni do testów (rozmiar danych do analizy)\n",
    "N = int(1e7)\n",
    "# Tablica z wylosowanymi kubłami\n",
    "days = np.random.randint(n, size = N)\n",
    "# Wylosowany mark na kazdym kuble\n",
    "heights = np.random.uniform(size = N)\n",
    "\n",
    "\n",
    "# Wziecie odpowiednio oryginalnego albo kubla z którego przelano\n",
    "days = np.where(heights <= buckets[days], days, full_buckets[days])\n",
    "\n",
    "def sample_until_repeat_empirical_vectorized(days): #days to wektor wylosowanych dni\n",
    "    results = []\n",
    "    curGroup = set() #dotychczasowe_wartosci\n",
    "    for new_date in days:\n",
    "        if new_date in curGroup:\n",
    "            results.append(len(curGroup) + 1)\n",
    "            curGroup = set()\n",
    "        else:\n",
    "            curGroup.add(new_date)\n",
    "    print('Function generated', len(results), 'results')\n",
    "    return results\n",
    "\n",
    "# Stworzenie histogramu\n",
    "a = sample_until_repeat_empirical_vectorized(days);\n",
    "plt.hist(a, bins = np.arange(0,100,1));"
   ]
  },
  {
   "cell_type": "code",
   "execution_count": null,
   "metadata": {},
   "outputs": [],
   "source": []
  }
 ],
 "metadata": {
  "kernelspec": {
   "display_name": "Python 3",
   "language": "python",
   "name": "python3"
  },
  "language_info": {
   "codemirror_mode": {
    "name": "ipython",
    "version": 3
   },
   "file_extension": ".py",
   "mimetype": "text/x-python",
   "name": "python",
   "nbconvert_exporter": "python",
   "pygments_lexer": "ipython3",
   "version": "3.7.3"
  }
 },
 "nbformat": 4,
 "nbformat_minor": 2
}
