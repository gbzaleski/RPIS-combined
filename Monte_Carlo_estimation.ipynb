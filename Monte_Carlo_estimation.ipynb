{
 "cells": [
  {
   "cell_type": "code",
   "execution_count": 3,
   "metadata": {},
   "outputs": [],
   "source": [
    "# Dane\n",
    "M = 64\n",
    "phi = [[55, 3, -50, -57, 2, 51, -5, -56, -45, 1], [28, -1, -26, 35, 42, -43, 45, -56, -11, 6], [-18, 43, 1, 64, -34, 28, 48, -13, 29, 49], [-21, 12, 7, -49, -25, -45, 8, -51, 5, -26], [6, -26, 27, 51, 2, 9, 49, 29, -42, -35], [-12, 4, -32, -60, 2, 56, 31, 58, -19, -46], [-10, -52, 25, -8, -56, -24, -51, 20, 36, 22], [-64, -26, -36, -14, 3, 42, -20, -59, 25, 33], [-31, -33, 40, -29, -12, -49, 28, 11, 7, 22], [-25, 23, -17, -61, 34, 32, 24, -52, -21, -26], [-48, -42, -43, -24, 14, 50, -64, 60, 7, -53], [-1, 2, -61, -24, -53, 34, -13, 36, -46, 3], [3, -52, 60, 39, 9, 59, 57, 32, 6, -7], [-17, -28, -58, 33, 16, -22, -13, 26, 18, -11], [47, -39, 46, 40, -18, 24, 6, -23, -64, -22], [-6, 60, 35, 1, 52, 18, -33, 43, 45, -11], [57, -34, -32, 16, -41, -25, 37, 40, 43, -5], [58, -51, -40, 42, 5, 27, -41, 20, 32, 30], [-48, -11, -15, -14, -27, 17, -33, 55, -64, -51], [-11, -8, 48, 57, 42, 64, 40, -45, 13, -25], [-40, -39, 46, -36, -51, -58, 14, 7, -18, -6], [31, 38, -11, -45, -14, -9, -63, 27, -35, -46], [40, 11, 28, -26, -25, -20, -41, 16, 61, -32], [-35, 6, -58, 30, 62, -36, -7, -37, 38, 51], [-13, 58, 1, 14, 52, 8, 45, -49, -21, 51], [10, -62, -39, -57, 15, -40, 56, -31, -47, 23], [37, 22, -21, 52, -5, -19, -7, 50, 34, 9], [18, 14, -31, 27, -2, 5, 3, 48, 63, -34], [-43, 39, -29, 34, 60, -10, -61, -49, -42, 57], [-32, -29, -16, 53, -38, 52, -36, -62, -5, 45], [-28, 25, -31, -41, -44, -37, 20, 48, 59, 24], [49, -59, -13, -56, -29, -2, -45, -62, -38, -26], [-33, -31, 53, 64, 15, 17, 12, 50, 46, -54], [56, 57, 22, 4, 46, 21, 49, 14, 43, -41], [-8, 18, -21, -15, -42, -64, 45, 14, 13, -33], [-32, 62, 2, 10, -49, -64, 15, -35, -20, -17], [54, -64, -20, 37, -5, -26, -41, -35, 32, -25], [60, 58, -23, -43, -2, 15, 10, 9, 59, -45], [9, 29, -17, 45, -53, 18, 19, 50, 42, -61], [54, -51, 9, -52, -40, -37, -18, -59, 48, 3], [-32, -17, 38, 12, -27, 45, 57, -51, 56, 4], [-12, 62, -17, -50, -32, -45, -56, 46, 19, -61], [51, -27, 56, 45, 59, -25, 3, -18, 60, -44], [-50, 5, -10, 12, -23, -41, 31, -59, -35, 30], [-5, 18, -4, -63, 22, -40, 10, -62, 61, -35], [1, -10, 31, -41, 56, -17, -61, 22, 46, -14], [-45, 32, 54, -48, -25, 10, 31, -63, 38, -17], [50, -46, 44, -57, -45, -1, -63, 15, 4, 12], [-39, -28, 49, -9, 53, 25, 47, -6, 24, -36], [-41, 59, 13, 15, 21, -20, -19, 2, -22, 37], [-31, 23, -57, -38, 30, 59, 28, 6, 53, 26], [-38, -62, 14, 26, 12, 46, 10, 35, -18, -43], [20, -10, -48, -62, -17, -27, 49, -11, 59, 7], [-43, -46, -14, -31, -62, 52, -10, 40, -63, 32], [15, -12, 43, -19, -34, -25, -14, 62, 50, 61], [24, -52, 32, 61, 18, -44, 49, 29, 55, -57], [-27, 25, 55, -57, 12, 9, -43, 29, 36, 18], [13, -27, 21, -24, -8, 39, -60, 34, -11, 54], [-51, -3, 12, 26, -9, -23, -18, 28, 24, 11], [-1, -10, 9, 35, -55, -30, 48, 53, -32, -24], [-59, -58, -30, -46, 17, 11, 3, -18, -1, -50], [-61, -52, 17, -4, -44, -56, 64, 37, -47, 46], [28, 59, -23, 29, -5, -41, 39, 57, 2, 34], [-54, 56, 5, -20, -6, 13, 49, 28, -42, 25]]\n"
   ]
  },
  {
   "cell_type": "code",
   "execution_count": 2,
   "metadata": {},
   "outputs": [],
   "source": [
    "import numpy as np\n",
    "import pandas\n",
    "import matplotlib.pyplot as plt\n",
    "import random\n",
    "import math"
   ]
  },
  {
   "cell_type": "code",
   "execution_count": 5,
   "metadata": {},
   "outputs": [],
   "source": [
    "def checkCollision(clause): # Sprawdzenie czy w klauzuli nie ma sprzecznosci np. [x_1 AND ~x_1]\n",
    "    letters = set()\n",
    "    for c in clause:\n",
    "        if -c in letters:\n",
    "            return True\n",
    "        else:\n",
    "            letters.add(c)\n",
    "    return False\n",
    "\n",
    "\n",
    "def differentLetters(clause): # Zwraca liczbe różnych literałów w (zał. poprawnej formule)\n",
    "    letters = set()\n",
    "    for c in clause:\n",
    "        letters.add(c)\n",
    "    return len(letters)\n",
    "\n",
    "def howManyAnswers(M, clause):\n",
    "    if checkCollision(clause):\n",
    "        return 0\n",
    "    return 2 ** (M - differentLetters(clause))"
   ]
  },
  {
   "cell_type": "code",
   "execution_count": 6,
   "metadata": {},
   "outputs": [
    {
     "name": "stdout",
     "output_type": "stream",
     "text": [
      "1.11616\n"
     ]
    }
   ],
   "source": [
    "# Metoda Monte Carlo (losowanie)\n",
    "def getRandomLogicValues(size):\n",
    "    res = [0] # Dodatkowy element zeby indexowac od 1 jak w poleceniu\n",
    "    for _ in range(size):\n",
    "        res.append(random.randint(0,1)*2 - 1) # Losuje -1 = fałsze, 1 = prawde\n",
    "    return res\n",
    "\n",
    "def getClauseValue(clause, values): #Wartosc klauzuli clause dla wartościowania values\n",
    "    for c in clause:\n",
    "        if values[np.abs(c)] * np.sign(c) != 1:\n",
    "            return False\n",
    "    return True\n",
    "\n",
    "N = int(1e5) # Testy\n",
    "pos = 0 # Licznik wartosciowan pozytywnych (prawdziwych)\n",
    "for _ in range(N):\n",
    "    pos += getClauseValue(phi[0], getRandomLogicValues(M)) # Mozna dać dowolne phi[i]\n",
    "\n",
    "Ans = (2**M * pos / N) #Odpowiedź wyliczamy odsetek z wszystkich mozliwosci\n",
    "\n",
    "print(Ans / howManyAnswers(M, phi[0])) # Jak widać wynik niewiele się rózni od poprawnej odpowiedzi\n"
   ]
  },
  {
   "cell_type": "code",
   "execution_count": 9,
   "metadata": {},
   "outputs": [
    {
     "name": "stdout",
     "output_type": "stream",
     "text": [
      "0.9551\n",
      "1.7205552016406242e+16\n"
     ]
    }
   ],
   "source": [
    "# Zeby policzyć liczbe wartościowań spełniających C_i ale nie spełniajacych C_1, C_2, ... , C_{i-1} użyjemy sprytnej optymalizacji\n",
    "# Zamiast losować wszystkie M literałów - ustawimy k literałow z C_i tak żeby to było spelnione a wylosujemy reszte\n",
    "# (oszczedzimy w ten sposób znacznie losowań bo i tak tylko 2^{-k} wszystkich spełnia C_i)\n",
    "def setValuesToClause(Clause, Values):\n",
    "    for c in Clause:\n",
    "        Values[abs(c)] = np.sign(c)\n",
    "    return Values\n",
    "\n",
    "def MonteCarloTry(M, phi, i): # M - liczb literałow, phi - zbiór formuł, i-ta formuła ma być spełniona a poprzednie nie\n",
    "    Values = getRandomLogicValues(M)\n",
    "    Values = setValuesToClause(phi[i], Values)\n",
    "    j = 0\n",
    "    while j < i:\n",
    "        if getClauseValue(phi[j], Values):\n",
    "            return False\n",
    "        j = j + 1\n",
    "    return True\n",
    "\n",
    "inp_i = len(phi) - 1 # Dla której formuły sprawdzamy, wybieramy dowolne phi[inp_i]\n",
    "base_ans = howManyAnswers(M, phi[inp_i]) # Poprawne wartosciowania dla phi[inp_i], upperbound odpowiedzi\n",
    "\n",
    "N = int(1e4) # liczba prob\n",
    "cnt = 0 # Poprawne odpowiedz\n",
    "for _ in range(N):\n",
    "    cnt += MonteCarloTry(M, phi, inp_i)\n",
    "ans = (cnt * base_ans / N) # Odpowiedź na podst. metody Monte Carlo\n",
    "print(cnt/N)\n",
    "print(ans)\n",
    "\n",
    "# cnt/N jest odpowiedzią drugi podpunkt\n",
    "# natomiast ans = cnt/N * base_ans na trzeci (odsetek poprawny a base_ans to wszyskie poprawne wartosciowania dla phi[inp_i])\n"
   ]
  },
  {
   "cell_type": "code",
   "execution_count": null,
   "metadata": {},
   "outputs": [],
   "source": [
    "# Możemy to wykorzystajac do policzenia wszystkich wartosciowań formuły w następujący sposób:\n",
    "# Sumujemy wartość (cnt * base_ans / N) dla każdej z klazul po kolei.\n",
    "# Działa to ponieważ każda poprawna klazula jest liczona tylko raz* w momencie gdy jako \"poprawna\" ustawiona jest ta klazula o najmniejszym indeksie\n",
    "# Czemu tak?\n",
    "# Rozważmy wartościowanie poprawie takie że tylko C_3, C_21 i C_37 są spełnione, takie wartaoścowanie zostanie doliczone do wyniku dla iteracji i = 3.\n",
    "# Dlaczego wtedy?\n",
    "# dla i < 3 z założenia spełniona jest C_i czyli jakaś inna klauzala, przed C_3\n",
    "# dla i > 3 fałszywe są klauzule poprzednie czyli w tym C_3.\n",
    "\n",
    "# * - oczywiście wynik jest przybliżony albowiem metoda Monte Carlo opiera się na losowaniu czyli odsetek poprawnych wyników może się rożnić od dokładnej liczby.\n"
   ]
  },
  {
   "cell_type": "code",
   "execution_count": 11,
   "metadata": {},
   "outputs": [
    {
     "name": "stdout",
     "output_type": "stream",
     "text": [
      "\n",
      "\n",
      "1.119506596811609e+18\n"
     ]
    }
   ],
   "source": [
    "ult_ans = 0\n",
    "for inp_i in range(len(phi)):\n",
    "    N = int(1e4) # liczba prob\n",
    "    cnt = 0 # Poprawne odpowiedz\n",
    "    for _ in range(N):\n",
    "        cnt += MonteCarloTry(M, phi, inp_i)\n",
    "    ans = (cnt * base_ans / N) # Odpowiedź na podst. metody Monte Carlo\n",
    "    # print(ans) # Wynik pojedynczej iteracji - dla poprawności klazuli C_i jako pierwszej poprawnej\n",
    "    ult_ans += ans\n",
    "print(\"\\n\")\n",
    "print(ult_ans) # Całkowita odpowiedź\n",
    "    "
   ]
  }
 ],
 "metadata": {
  "kernelspec": {
   "display_name": "Python 3",
   "language": "python",
   "name": "python3"
  },
  "language_info": {
   "codemirror_mode": {
    "name": "ipython",
    "version": 3
   },
   "file_extension": ".py",
   "mimetype": "text/x-python",
   "name": "python",
   "nbconvert_exporter": "python",
   "pygments_lexer": "ipython3",
   "version": "3.7.3"
  }
 },
 "nbformat": 4,
 "nbformat_minor": 2
}
