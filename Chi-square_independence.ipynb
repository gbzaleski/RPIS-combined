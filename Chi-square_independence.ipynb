{
 "cells": [
  {
   "cell_type": "code",
   "execution_count": 2,
   "metadata": {},
   "outputs": [],
   "source": [
    "# Grzegorz B. Zaleski (418494)\n",
    "import numpy as np\n",
    "from scipy import stats\n",
    "# Rows: women, men\n",
    "# Columns: PiS, PO, Kukiz, Nowoczesna, Lewica, PSL, Razem, KORWiN\n",
    "#data = np.array([ [39.7,26.4,7.5,7.1,6.6,5.0,4.2,2.8], \n",
    "#                  [38.5,20.3,10.6,7.1,6.6,5.4,3.5,7.1]])\n",
    "data = np.array([[ 17508, 11642,  3308,  3131,  2911,  2205,  1852, 1235],\n",
    " [ 17672,  9318,  4865,  3259,  3029,  2479,  1606, 3259]])\n",
    "\n",
    "data_no_korwin = data[:, :-1]"
   ]
  },
  {
   "cell_type": "code",
   "execution_count": 3,
   "metadata": {},
   "outputs": [],
   "source": [
    "# Sprawdzenie czy zależności są niezależne\n",
    "def analyse(data):\n",
    "    rows = len(data)\n",
    "    cols = len(data[0]);\n",
    "    df = (rows - 1) * (cols - 1)\n",
    "    total = np.sum(data)\n",
    "    row_sum = np.sum(data, axis=1)\n",
    "    col_sum = np.sum(data, axis=0)\n",
    "    S = 0\n",
    "    \n",
    "    for i in range(rows):\n",
    "        for j in range(cols):\n",
    "            exp = row_sum[i] * col_sum[j] / total\n",
    "            real = data[i][j]\n",
    "            S += ((real - exp)**2) / exp\n",
    "    \n",
    "    # Prawdobopodobieństwo niezależności , stats.chi2.cdf(S, df) = prawdodopobieństwo odruzecenia tezy\n",
    "    return 1 - stats.chi2.cdf(S, df)"
   ]
  },
  {
   "cell_type": "code",
   "execution_count": 5,
   "metadata": {},
   "outputs": [
    {
     "name": "stdout",
     "output_type": "stream",
     "text": [
      "Sprawdzimy czy wyniki wyborów są niezależne od płci:\n",
      "Nie są niezależne\n",
      "\n",
      "Teraz sprawdzimy czy wyników wyborów - poza partią Korwin - są niezależne od płci:\n",
      "Nie są niezależne\n"
     ]
    }
   ],
   "source": [
    "treshold = 1/20 # wybrana wartość graniczna\n",
    "print(\"Sprawdzimy czy wyniki wyborów są niezależne od płci:\")\n",
    "if analyse(data) > treshold:\n",
    "    print(\"Na podstawie analizy nie można odrzucić tezy dot. niezależności płci i wyników wyborów\")\n",
    "else:\n",
    "    print(\"Nie są niezależne\")\n",
    "\n",
    "print(\"\\nTeraz sprawdzimy czy wyników wyborów - poza partią Korwin - są niezależne od płci:\")\n",
    "if analyse(data_no_korwin) > treshold:\n",
    "    print(\"Na podstawie analizy nie można odrzucić tezy dot. niezależności płci i wyników wyborów\")\n",
    "else:\n",
    "    print(\"Nie są niezależne\")\n"
   ]
  }
 ],
 "metadata": {
  "kernelspec": {
   "display_name": "Python 3",
   "language": "python",
   "name": "python3"
  },
  "language_info": {
   "codemirror_mode": {
    "name": "ipython",
    "version": 3
   },
   "file_extension": ".py",
   "mimetype": "text/x-python",
   "name": "python",
   "nbconvert_exporter": "python",
   "pygments_lexer": "ipython3",
   "version": "3.7.3"
  }
 },
 "nbformat": 4,
 "nbformat_minor": 2
}
